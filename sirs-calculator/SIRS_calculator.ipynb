{
 "cells": [
  {
   "cell_type": "code",
   "execution_count": 47,
   "id": "80d80f23-56d3-4df2-a8cd-ab778eecc7f5",
   "metadata": {},
   "outputs": [],
   "source": [
    "# making a SIRS calculator"
   ]
  },
  {
   "cell_type": "code",
   "execution_count": 48,
   "id": "feaa31b7-b93b-4a16-870c-7e433104595a",
   "metadata": {},
   "outputs": [
    {
     "name": "stdout",
     "output_type": "stream",
     "text": [
      "Welcome to the SIRS Calculator\n"
     ]
    }
   ],
   "source": [
    "print(\"Welcome to the SIRS Calculator\")"
   ]
  },
  {
   "cell_type": "code",
   "execution_count": 49,
   "id": "e0e68003-ab98-4ac4-9ff1-40bb67e671e6",
   "metadata": {},
   "outputs": [],
   "source": [
    "SIRS_score = 0"
   ]
  },
  {
   "cell_type": "code",
   "execution_count": 50,
   "id": "e991bb3e-b094-4346-89d4-cc91f94cff73",
   "metadata": {},
   "outputs": [
    {
     "name": "stdin",
     "output_type": "stream",
     "text": [
      "What is the patient temperature?  33\n"
     ]
    }
   ],
   "source": [
    "while True:\n",
    "    temp = input(\"What is the patient temperature? \")\n",
    "    try:\n",
    "        temp = float(temp)\n",
    "    # if it doesnt work:\n",
    "    except ValueError:\n",
    "        print(\"That was not a valid number.\")\n",
    "        continue\n",
    "    else: \n",
    "     break"
   ]
  },
  {
   "cell_type": "code",
   "execution_count": 51,
   "id": "afb16411-80a7-43bd-9935-34dda3db2483",
   "metadata": {},
   "outputs": [
    {
     "name": "stdout",
     "output_type": "stream",
     "text": [
      "The temperaature is  33.0\n"
     ]
    }
   ],
   "source": [
    "print(\"The temperature is \", temp)"
   ]
  },
  {
   "cell_type": "code",
   "execution_count": 52,
   "id": "8a710387-6a1e-4393-9cab-fc2fddc7a333",
   "metadata": {},
   "outputs": [
    {
     "name": "stdout",
     "output_type": "stream",
     "text": [
      "Points:  1\n"
     ]
    }
   ],
   "source": [
    "# takes the temp and see the criteria\n",
    "if temp > 37.5 or temp < 36.5:\n",
    "    SIRS_score += 1\n",
    "    print(\"Points: \", SIRS_score)\n",
    "else:\n",
    "    print(\"The temperature is normal.\")\n",
    "    print(\"Points: \", SIRS_score)\n"
   ]
  },
  {
   "cell_type": "code",
   "execution_count": 53,
   "id": "d4e9ef43-6779-4610-9fdd-ba56999755ad",
   "metadata": {},
   "outputs": [],
   "source": [
    "#Respiratory Rate"
   ]
  },
  {
   "cell_type": "code",
   "execution_count": 54,
   "id": "e93021ac-584e-4e03-9c24-7cbf28f510ac",
   "metadata": {},
   "outputs": [
    {
     "name": "stdin",
     "output_type": "stream",
     "text": [
      "What is the patient respiratory rate? 25\n",
      "What is the patient's PaCO2? (mmHg) 23\n"
     ]
    }
   ],
   "source": [
    "while True:\n",
    "    respRate = input(\"What is the patient respiratory rate?\")\n",
    "    try:\n",
    "        respRate = int(respRate)\n",
    "    except ValueError:\n",
    "        print(\"That was not a whole number.\")\n",
    "        continue\n",
    "    else:\n",
    "        break\n",
    "\n",
    "while True: \n",
    "    paCO2 = input(\"What is the patient's PaCO2? (mmHg)\")\n",
    "    try:\n",
    "        paCO2 = int(paCO2)\n",
    "    except ValueError:\n",
    "        print(\"That was not a whole number.\")\n",
    "        continue\n",
    "    else:\n",
    "        break\n"
   ]
  },
  {
   "cell_type": "code",
   "execution_count": 55,
   "id": "ddf114a7-9044-4499-a12b-ea9133b81f62",
   "metadata": {},
   "outputs": [
    {
     "name": "stdout",
     "output_type": "stream",
     "text": [
      "The respiratory rate is  25\n",
      "Points  2\n"
     ]
    }
   ],
   "source": [
    "print(\"The respiratory rate is \", respRate)\n",
    "\n",
    "if respRate > 20 or PaCO2 < 32:\n",
    "    SIRS_score += 1 \n",
    "    print(\"Points \", SIRS_score)\n",
    "else: \n",
    "    print(\"The respiratory rate and the PaCO2 is normal.\")\n",
    "    print(\"Points: \", SIRS_score)\n"
   ]
  },
  {
   "cell_type": "code",
   "execution_count": 56,
   "id": "5c95a2c0-fcb6-4650-91f5-3dd537942008",
   "metadata": {},
   "outputs": [],
   "source": [
    "# Heart rate"
   ]
  },
  {
   "cell_type": "code",
   "execution_count": 57,
   "id": "92d8186d-428b-450a-af3b-d533ef2e135e",
   "metadata": {},
   "outputs": [
    {
     "name": "stdin",
     "output_type": "stream",
     "text": [
      "What is the heart rate?  90\n"
     ]
    }
   ],
   "source": [
    "while True:\n",
    "    heartRate = input(\"What is the heart rate? \")\n",
    "    try:\n",
    "        heartRate = int(heartRate)\n",
    "    # if it doesnt work:\n",
    "    except ValueError:\n",
    "        print(\"That was not a valid number.\")\n",
    "        continue\n",
    "    else: \n",
    "     break"
   ]
  },
  {
   "cell_type": "code",
   "execution_count": 58,
   "id": "a3db296b-7299-4f4b-ac8b-0c4ff615d5d3",
   "metadata": {},
   "outputs": [
    {
     "name": "stdout",
     "output_type": "stream",
     "text": [
      "The heart rate is  25\n",
      "The heart rate is normal.\n",
      "Points:  2\n"
     ]
    }
   ],
   "source": [
    "print(\"The heart rate is \", respRate)\n",
    "\n",
    "if heartRate > 90:\n",
    "    SIRS_score += 1 \n",
    "    print(\"Points \", SIRS_score)\n",
    "else: \n",
    "    print(\"The heart rate is normal.\")\n",
    "    print(\"Points: \", SIRS_score)"
   ]
  },
  {
   "cell_type": "code",
   "execution_count": 59,
   "id": "df5cf6c1-121d-41cc-b770-517d5dcefa4a",
   "metadata": {},
   "outputs": [],
   "source": [
    "# White cell count"
   ]
  },
  {
   "cell_type": "code",
   "execution_count": 60,
   "id": "49eb45a3-69f8-491f-9694-ff7b9449f14a",
   "metadata": {},
   "outputs": [
    {
     "name": "stdin",
     "output_type": "stream",
     "text": [
      "What is white cell count? (x10^9/L) 8\n"
     ]
    }
   ],
   "source": [
    "while True:\n",
    "    whitecell = input(\"What is white cell count? (x10^9/L)\")\n",
    "    try:\n",
    "        whitecell = float(whitecell)\n",
    "    # if it doesnt work:\n",
    "    except ValueError:\n",
    "        print(\"That was not a valid number.\")\n",
    "        continue\n",
    "    else: \n",
    "     break"
   ]
  },
  {
   "cell_type": "code",
   "execution_count": 61,
   "id": "648023ac-52a5-457e-b370-b91ed4347fc9",
   "metadata": {},
   "outputs": [
    {
     "name": "stdout",
     "output_type": "stream",
     "text": [
      "The white cell count is 8.0 x10^9/L\n",
      "The white cell count is normal.\n",
      "Points:  2\n"
     ]
    }
   ],
   "source": [
    "print(\"The white cell count is\", whitecell, \"x10^9/L\")\n",
    "\n",
    "if whitecell > 12 or whitecell < 4:\n",
    "    SIRS_score += 1 \n",
    "    print(\"Points \", SIRS_score)\n",
    "else: \n",
    "    print(\"The white cell count is normal.\")\n",
    "    print(\"Points: \", SIRS_score)"
   ]
  },
  {
   "cell_type": "code",
   "execution_count": 62,
   "id": "9ef8a668-175f-4551-9f37-375bb0ed1faa",
   "metadata": {},
   "outputs": [],
   "source": [
    "# Report final result"
   ]
  },
  {
   "cell_type": "code",
   "execution_count": 64,
   "id": "5ebe3d5e-8905-45cd-8fdc-077cb253910e",
   "metadata": {},
   "outputs": [
    {
     "name": "stdout",
     "output_type": "stream",
     "text": [
      "The total SIRS score is  2\n",
      "The criteria for SIRS are met. The patient has SIRS.\n"
     ]
    }
   ],
   "source": [
    "print(\"The total SIRS score is \", SIRS_score)\n",
    "\n",
    "if SIRS_score >= 2: \n",
    "    print(\"The criteria for SIRS are met. The patient has SIRS.\") \n",
    "else: \n",
    "    print(\"The criteria for SIRS are not met. The patient does not have SIRS.\")"
   ]
  },
  {
   "cell_type": "code",
   "execution_count": null,
   "id": "e5f7752d-750c-43b1-991f-b9b46839bf38",
   "metadata": {},
   "outputs": [],
   "source": []
  },
  {
   "cell_type": "code",
   "execution_count": null,
   "id": "dfaab855-ad06-44b2-9e0f-7366cf92bbc4",
   "metadata": {},
   "outputs": [],
   "source": [
    "# 25:00     transforming into python file"
   ]
  }
 ],
 "metadata": {
  "kernelspec": {
   "display_name": "Python [conda env:base] *",
   "language": "python",
   "name": "conda-base-py"
  },
  "language_info": {
   "codemirror_mode": {
    "name": "ipython",
    "version": 3
   },
   "file_extension": ".py",
   "mimetype": "text/x-python",
   "name": "python",
   "nbconvert_exporter": "python",
   "pygments_lexer": "ipython3",
   "version": "3.12.7"
  }
 },
 "nbformat": 4,
 "nbformat_minor": 5
}
